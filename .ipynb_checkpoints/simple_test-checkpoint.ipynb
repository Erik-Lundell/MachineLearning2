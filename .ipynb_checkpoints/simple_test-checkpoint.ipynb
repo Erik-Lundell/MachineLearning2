{
 "cells": [
  {
   "cell_type": "markdown",
   "id": "promising-symbol",
   "metadata": {},
   "source": [
    "## Dummy tests of implementation"
   ]
  },
  {
   "cell_type": "code",
   "execution_count": 1,
   "id": "thick-nitrogen",
   "metadata": {},
   "outputs": [
    {
     "name": "stdout",
     "output_type": "stream",
     "text": [
      "Expects 2: 2.0\n",
      "Expects somewhat lower than 2: 1.864921894064179\n",
      "Expects 1.5: 1.5\n",
      "Expects lower than 2: 1.761993284463089\n",
      "Expects 1.33: 1.3333333333333333\n"
     ]
    }
   ],
   "source": [
    "#Data represents square:\n",
    "import kNN\n",
    "import numpy as np\n",
    "\n",
    "# 1 - - - 2\n",
    "# |       |\n",
    "# |       |\n",
    "# 0 - - - 1\n",
    "\n",
    "x = np.array([\n",
    "    [0,0],\n",
    "    [0,1],\n",
    "    [1,1],\n",
    "    [1,0]\n",
    "])\n",
    "\n",
    "y = np.array([0, 1, 2, 1])\n",
    "\n",
    "\n",
    "kNN.fit(x,y)\n",
    "\n",
    "print(\"Expects 2: \" + str(kNN.kNN([0.9,0.9], 1)))\n",
    "print(\"Expects somewhat lower than 2: \" + str(kNN.kNN([0.9,0.9], 2, weighting=kNN.distance_weighting)))\n",
    "print(\"Expects 1.5: \" + str(kNN.kNN([0.9,0.9], 2)))\n",
    "print(\"Expects lower than 2: \" + str(kNN.kNN([0.9,0.9], 3,weighting=kNN.distance_weighting)))\n",
    "print(\"Expects 1.33: \" + str(kNN.kNN([0.9,0.9], 3)))\n",
    "\n",
    "print(\"Should be same:\")\n",
    "print(str(kNN.kNN([0.9,0.5], 2, weighting=kNN.distance_weighting)))\n",
    "print(str(kNN.kNN([0.5,0.9], 2, weighting=kNN.distance_weighting)))\n"
   ]
  },
  {
   "cell_type": "code",
   "execution_count": null,
   "id": "sophisticated-horizontal",
   "metadata": {},
   "outputs": [],
   "source": []
  },
  {
   "cell_type": "code",
   "execution_count": null,
   "id": "rising-polymer",
   "metadata": {},
   "outputs": [],
   "source": []
  },
  {
   "cell_type": "code",
   "execution_count": null,
   "id": "naval-dodge",
   "metadata": {},
   "outputs": [],
   "source": []
  }
 ],
 "metadata": {
  "kernelspec": {
   "display_name": "Python 3",
   "language": "python",
   "name": "python3"
  },
  "language_info": {
   "codemirror_mode": {
    "name": "ipython",
    "version": 3
   },
   "file_extension": ".py",
   "mimetype": "text/x-python",
   "name": "python",
   "nbconvert_exporter": "python",
   "pygments_lexer": "ipython3",
   "version": "3.9.1"
  }
 },
 "nbformat": 4,
 "nbformat_minor": 5
}
