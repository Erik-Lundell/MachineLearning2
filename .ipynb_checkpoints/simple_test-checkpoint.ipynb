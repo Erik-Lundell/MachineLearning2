{
 "cells": [
  {
   "cell_type": "markdown",
   "id": "joined-leave",
   "metadata": {},
   "source": [
    "## Dummy tests of implementation"
   ]
  },
  {
   "cell_type": "code",
   "execution_count": 1,
   "id": "sonic-isaac",
   "metadata": {},
   "outputs": [
    {
     "name": "stdout",
     "output_type": "stream",
     "text": [
      "Expects 2: 2.0\n",
      "Expects somewhat lower than 2: 1.864921894064179\n",
      "Expects 1.5: 1.5\n",
      "Expects lower than 2: 1.761993284463089\n",
      "Expects 1.33: 1.3333333333333333\n",
      "Should be same:\n",
      "1.5512729015077755\n",
      "1.5512729015077755\n"
     ]
    }
   ],
   "source": [
    "import kNN\n",
    "import numpy as np\n",
    "\n",
    "#Data represents square:\n",
    "# 1 - - - 2\n",
    "# |       |\n",
    "# |       |\n",
    "# 0 - - - 1\n",
    "\n",
    "x = np.array([\n",
    "    [0,0],\n",
    "    [0,1],\n",
    "    [1,1],\n",
    "    [1,0]\n",
    "])\n",
    "\n",
    "y = np.array([0, 1, 2, 1])\n",
    "\n",
    "\n",
    "kNN.fit(x,y)\n",
    "\n",
    "print(\"Expects 2: \" + str(kNN.kNN([0.9,0.9], 1)))\n",
    "print(\"Expects somewhat lower than 2: \" + str(kNN.kNN([0.9,0.9], 2, weighting=kNN.distance_weighting)))\n",
    "print(\"Expects 1.5: \" + str(kNN.kNN([0.9,0.9], 2)))\n",
    "print(\"Expects lower than 2: \" + str(kNN.kNN([0.9,0.9], 3,weighting=kNN.distance_weighting)))\n",
    "print(\"Expects 1.33: \" + str(kNN.kNN([0.9,0.9], 3)))\n",
    "\n",
    "print(\"Should be same:\")\n",
    "print(str(kNN.kNN([0.7,0.57], 2, weighting=kNN.distance_weighting)))\n",
    "print(str(kNN.kNN([0.57,0.7], 2, weighting=kNN.distance_weighting)))\n"
   ]
  },
  {
   "cell_type": "code",
   "execution_count": 2,
   "id": "operational-cornwall",
   "metadata": {},
   "outputs": [
    {
     "name": "stdout",
     "output_type": "stream",
     "text": [
      "Iteration 1: cost = 2.65 (improvement: 7.30%).\n",
      "Iteration 2: cost = 2.47 (improvement: 6.67%).\n",
      "Iteration 3: cost = 2.32 (improvement: 6.05%).\n",
      "Iteration 4: cost = 2.20 (improvement: 5.45%).\n",
      "Iteration 5: cost = 2.09 (improvement: 4.88%).\n",
      "Iteration 6: cost = 2.00 (improvement: 4.34%).\n",
      "Iteration 7: cost = 1.92 (improvement: 3.84%).\n",
      "Iteration 8: cost = 1.86 (improvement: 3.38%).\n",
      "Iteration 9: cost = 1.80 (improvement: 2.96%).\n",
      "Iteration 10: cost = 1.76 (improvement: 2.58%).\n",
      "Iteration 11: cost = 1.72 (improvement: 2.24%).\n",
      "Iteration 12: cost = 1.68 (improvement: 1.94%).\n",
      "Iteration 13: cost = 1.66 (improvement: 1.68%).\n",
      "Iteration 14: cost = 1.63 (improvement: 1.44%).\n",
      "Iteration 15: cost = 1.61 (improvement: 1.24%).\n",
      "Iteration 16: cost = 1.59 (improvement: 1.06%).\n",
      "Iteration 17: cost = 1.58 (improvement: 0.91%).\n",
      "Iteration 18: cost = 1.57 (improvement: 0.78%).\n",
      "Iteration 19: cost = 1.56 (improvement: 0.66%).\n",
      "Iteration 20: cost = 1.55 (improvement: 0.56%).\n",
      "Iteration 21: cost = 1.54 (improvement: 0.48%).\n",
      "Iteration 22: cost = 1.53 (improvement: 0.41%).\n",
      "Iteration 23: cost = 1.53 (improvement: 0.35%).\n",
      "Iteration 24: cost = 1.52 (improvement: 0.29%).\n",
      "Iteration 25: cost = 1.52 (improvement: 0.25%).\n",
      "Iteration 26: cost = 1.52 (improvement: 0.21%).\n",
      "Iteration 27: cost = 1.52 (improvement: 0.18%).\n",
      "Iteration 28: cost = 1.51 (improvement: 0.15%).\n",
      "Iteration 29: cost = 1.51 (improvement: 0.13%).\n",
      "Iteration 30: cost = 1.51 (improvement: 0.11%).\n",
      "Iteration 31: cost = 1.51 (improvement: 0.09%).\n",
      "Terminating fitting since relative improvement dropped below threshold.\n",
      "Final weights: [0.7197105272608161, 0.7181075035198616]\n"
     ]
    }
   ],
   "source": [
    "import RidgeRegression\n",
    "\n",
    "RidgeRegression.fit(x,y, 1, 0.01, epsilon = 0.001)"
   ]
  },
  {
   "cell_type": "code",
   "execution_count": 3,
   "id": "first-hearts",
   "metadata": {},
   "outputs": [
    {
     "name": "stdout",
     "output_type": "stream",
     "text": [
      "Expects 2: 1.438\n",
      "Expects 1: 0.720\n",
      "Expects 1: 0.718\n",
      "Expects 0: 0.000\n"
     ]
    }
   ],
   "source": [
    "# Results are not perfect since amplitudes of weights are taken into account\n",
    "# (Which does not really make sense in this simple case)\n",
    "\n",
    "print(f\"Expects 2: {RidgeRegression.regress([1,1]):.3f}\")\n",
    "print(f\"Expects 1: {RidgeRegression.regress([1,0]):.3f}\")\n",
    "print(f\"Expects 1: {RidgeRegression.regress([0,1]):.3f}\")\n",
    "print(f\"Expects 0: {RidgeRegression.regress([0,0]):.3f}\")"
   ]
  },
  {
   "cell_type": "code",
   "execution_count": null,
   "id": "fifth-thought",
   "metadata": {},
   "outputs": [],
   "source": []
  }
 ],
 "metadata": {
  "kernelspec": {
   "display_name": "Python 3",
   "language": "python",
   "name": "python3"
  },
  "language_info": {
   "codemirror_mode": {
    "name": "ipython",
    "version": 3
   },
   "file_extension": ".py",
   "mimetype": "text/x-python",
   "name": "python",
   "nbconvert_exporter": "python",
   "pygments_lexer": "ipython3",
   "version": "3.9.1"
  },
  "toc-showmarkdowntxt": true
 },
 "nbformat": 4,
 "nbformat_minor": 5
}
