{
 "cells": [
  {
   "cell_type": "markdown",
   "id": "joined-leave",
   "metadata": {},
   "source": [
    "## Dummy tests of implementation"
   ]
  },
  {
   "cell_type": "code",
   "execution_count": 1,
   "id": "sonic-isaac",
   "metadata": {},
   "outputs": [
    {
     "name": "stdout",
     "output_type": "stream",
     "text": [
      "Expects 2: 2.0\n",
      "Expects somewhat lower than 2: 1.864921894064179\n",
      "Expects 1.5: 1.5\n",
      "Expects lower than 2: 1.761993284463089\n",
      "Expects 1.33: 1.3333333333333333\n",
      "Should be same:\n",
      "1.5512729015077755\n",
      "1.5512729015077755\n"
     ]
    }
   ],
   "source": [
    "import kNN\n",
    "import numpy as np\n",
    "\n",
    "#Data represents square:\n",
    "# 1 - - - 2\n",
    "# |       |\n",
    "# |       |\n",
    "# 0 - - - 1\n",
    "\n",
    "x = np.array([\n",
    "    [0,0],\n",
    "    [0,1],\n",
    "    [1,1],\n",
    "    [1,0]\n",
    "])\n",
    "\n",
    "y = np.array([0, 1, 2, 1])\n",
    "\n",
    "\n",
    "kNN.fit(x,y)\n",
    "\n",
    "print(\"Expects 2: \" + str(kNN.kNN([0.9,0.9], 1)))\n",
    "print(\"Expects somewhat lower than 2: \" + str(kNN.kNN([0.9,0.9], 2, weighting=kNN.distance_weighting)))\n",
    "print(\"Expects 1.5: \" + str(kNN.kNN([0.9,0.9], 2)))\n",
    "print(\"Expects lower than 2: \" + str(kNN.kNN([0.9,0.9], 3,weighting=kNN.distance_weighting)))\n",
    "print(\"Expects 1.33: \" + str(kNN.kNN([0.9,0.9], 3)))\n",
    "\n",
    "print(\"Should be same:\")\n",
    "print(str(kNN.kNN([0.7,0.57], 2, weighting=kNN.distance_weighting)))\n",
    "print(str(kNN.kNN([0.57,0.7], 2, weighting=kNN.distance_weighting)))\n"
   ]
  },
  {
   "cell_type": "code",
   "execution_count": null,
   "id": "operational-cornwall",
   "metadata": {},
   "outputs": [],
   "source": [
    "import RidgeRegression\n",
    "\n",
    "RidgeRegression.fit(x,y, 1, 0.01, epsilon = 0.001)"
   ]
  },
  {
   "cell_type": "code",
   "execution_count": 3,
   "id": "first-hearts",
   "metadata": {},
   "outputs": [
    {
     "name": "stdout",
     "output_type": "stream",
     "text": [
      "Expects 2: 1.438\n",
      "Expects 1: 0.720\n",
      "Expects 1: 0.718\n",
      "Expects 0: 0.000\n"
     ]
    }
   ],
   "source": [
    "# Results are not perfect since amplitudes of weights are taken into account\n",
    "# (Which does not really make sense in this simple case)\n",
    "\n",
    "print(f\"Expects 2: {RidgeRegression.regress([1,1]):.3f}\")\n",
    "print(f\"Expects 1: {RidgeRegression.regress([1,0]):.3f}\")\n",
    "print(f\"Expects 1: {RidgeRegression.regress([0,1]):.3f}\")\n",
    "print(f\"Expects 0: {RidgeRegression.regress([0,0]):.3f}\")"
   ]
  },
  {
   "cell_type": "code",
   "execution_count": 5,
   "id": "ca1e375d-f3ae-455c-951a-def91fc99c4c",
   "metadata": {},
   "outputs": [
    {
     "name": "stdout",
     "output_type": "stream",
     "text": [
      "[[0 0]\n",
      " [0 1]\n",
      " [1 1]\n",
      " [1 0]]\n"
     ]
    },
    {
     "ename": "ValueError",
     "evalue": "Cannot have number of splits n_splits=5 greater than the number of samples: n_samples=4.",
     "output_type": "error",
     "traceback": [
      "\u001b[1;31m---------------------------------------------------------------------------\u001b[0m",
      "\u001b[1;31mValueError\u001b[0m                                Traceback (most recent call last)",
      "Input \u001b[1;32mIn [5]\u001b[0m, in \u001b[0;36m<cell line: 2>\u001b[1;34m()\u001b[0m\n\u001b[0;32m      1\u001b[0m \u001b[38;5;28mprint\u001b[39m(x)\n\u001b[1;32m----> 2\u001b[0m \u001b[43mkNN\u001b[49m\u001b[38;5;241;43m.\u001b[39;49m\u001b[43mmetaKNN\u001b[49m\u001b[43m(\u001b[49m\u001b[43mx\u001b[49m\u001b[43m,\u001b[49m\u001b[43my\u001b[49m\u001b[43m,\u001b[49m\u001b[43mmin_k\u001b[49m\u001b[38;5;241;43m=\u001b[39;49m\u001b[38;5;241;43m1\u001b[39;49m\u001b[43m,\u001b[49m\u001b[43m \u001b[49m\u001b[43mmax_k\u001b[49m\u001b[43m \u001b[49m\u001b[38;5;241;43m=\u001b[39;49m\u001b[43m \u001b[49m\u001b[38;5;241;43m3\u001b[39;49m\u001b[43m)\u001b[49m\n",
      "File \u001b[1;32m~\\Documents\\Machine learning\\MachineLearning2\\kNN.py:111\u001b[0m, in \u001b[0;36mmetaKNN\u001b[1;34m(x, y, min_k, max_k)\u001b[0m\n\u001b[0;32m    108\u001b[0m cv\u001b[38;5;241m=\u001b[39mKFold(n_splits\u001b[38;5;241m=\u001b[39m\u001b[38;5;241m5\u001b[39m, shuffle\u001b[38;5;241m=\u001b[39m\u001b[38;5;28;01mTrue\u001b[39;00m, random_state\u001b[38;5;241m=\u001b[39mrandom\u001b[38;5;241m.\u001b[39mrandom())\n\u001b[0;32m    110\u001b[0m total_RMS \u001b[38;5;241m=\u001b[39m \u001b[38;5;241m0\u001b[39m\n\u001b[1;32m--> 111\u001b[0m \u001b[38;5;28;01mfor\u001b[39;00m train_index, test_index \u001b[38;5;129;01min\u001b[39;00m cv\u001b[38;5;241m.\u001b[39msplit(x):\n\u001b[0;32m    112\u001b[0m     X_train, X_test \u001b[38;5;241m=\u001b[39m x[train_index], x[test_index]\n\u001b[0;32m    113\u001b[0m     Y_train, Y_train \u001b[38;5;241m=\u001b[39m y[train_index], y[test_index]\n",
      "File \u001b[1;32m~\\.virtualenvs\\MachineLearning2-RjlXE-Ow\\lib\\site-packages\\sklearn\\model_selection\\_split.py:333\u001b[0m, in \u001b[0;36m_BaseKFold.split\u001b[1;34m(self, X, y, groups)\u001b[0m\n\u001b[0;32m    331\u001b[0m n_samples \u001b[38;5;241m=\u001b[39m _num_samples(X)\n\u001b[0;32m    332\u001b[0m \u001b[38;5;28;01mif\u001b[39;00m \u001b[38;5;28mself\u001b[39m\u001b[38;5;241m.\u001b[39mn_splits \u001b[38;5;241m>\u001b[39m n_samples:\n\u001b[1;32m--> 333\u001b[0m     \u001b[38;5;28;01mraise\u001b[39;00m \u001b[38;5;167;01mValueError\u001b[39;00m(\n\u001b[0;32m    334\u001b[0m         (\n\u001b[0;32m    335\u001b[0m             \u001b[38;5;124m\"\u001b[39m\u001b[38;5;124mCannot have number of splits n_splits=\u001b[39m\u001b[38;5;132;01m{0}\u001b[39;00m\u001b[38;5;124m greater\u001b[39m\u001b[38;5;124m\"\u001b[39m\n\u001b[0;32m    336\u001b[0m             \u001b[38;5;124m\"\u001b[39m\u001b[38;5;124m than the number of samples: n_samples=\u001b[39m\u001b[38;5;132;01m{1}\u001b[39;00m\u001b[38;5;124m.\u001b[39m\u001b[38;5;124m\"\u001b[39m\n\u001b[0;32m    337\u001b[0m         )\u001b[38;5;241m.\u001b[39mformat(\u001b[38;5;28mself\u001b[39m\u001b[38;5;241m.\u001b[39mn_splits, n_samples)\n\u001b[0;32m    338\u001b[0m     )\n\u001b[0;32m    340\u001b[0m \u001b[38;5;28;01mfor\u001b[39;00m train, test \u001b[38;5;129;01min\u001b[39;00m \u001b[38;5;28msuper\u001b[39m()\u001b[38;5;241m.\u001b[39msplit(X, y, groups):\n\u001b[0;32m    341\u001b[0m     \u001b[38;5;28;01myield\u001b[39;00m train, test\n",
      "\u001b[1;31mValueError\u001b[0m: Cannot have number of splits n_splits=5 greater than the number of samples: n_samples=4."
     ]
    }
   ],
   "source": []
  }
 ],
 "metadata": {
  "kernelspec": {
   "display_name": "Python 3 (ipykernel)",
   "language": "python",
   "name": "python3"
  },
  "language_info": {
   "codemirror_mode": {
    "name": "ipython",
    "version": 3
   },
   "file_extension": ".py",
   "mimetype": "text/x-python",
   "name": "python",
   "nbconvert_exporter": "python",
   "pygments_lexer": "ipython3",
   "version": "3.9.1"
  },
  "toc-showmarkdowntxt": true
 },
 "nbformat": 4,
 "nbformat_minor": 5
}
