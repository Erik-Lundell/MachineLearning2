{
 "cells": [
  {
   "cell_type": "markdown",
   "id": "eastern-attitude",
   "metadata": {},
   "source": [
    "# test implementations "
   ]
  },
  {
   "cell_type": "code",
   "execution_count": 8,
   "id": "excited-preserve",
   "metadata": {},
   "outputs": [],
   "source": [
    "import json\n",
    "import numpy as np\n",
    "import pandas as pd\n",
    "\n",
    "import sklearn as skl\n",
    "from sklearn import preprocessing\n",
    "from sklearn.linear_model import Ridge\n",
    "from sklearn.neighbors import KNeighborsRegressor\n",
    "\n",
    "#Our implementations\n",
    "import kNN as OurKNN\n",
    "import RidgeRegression as OurRidge\n",
    "\n",
    "cross_validator10 = skl.model_selection.StratifiedKFold(n_splits=10)\n"
   ]
  },
  {
   "cell_type": "markdown",
   "id": "searching-excerpt",
   "metadata": {},
   "source": [
    "#### Dataset 1: Wikipedia maths\n",
    "Json structure:\n",
    "{\"edges\":[[x,y]... array of ordered tuples of links],\n",
    "\"weights\":[(ordered) array of weights for the edges, I guess they represent the number of times one topic is linked to another],\n",
    "\"node_ids\":{\"topic name\": id, set of ids for all topics},\n",
    "\"time_periods\":731,\n",
    "\"0\": {\"index\":0, \"year\":2019, \"month\": 3, \"day\":16, \"y\":[124, 1240, 123...]},\n",
    "\"1\":{\"index\":1, ...}\n",
    "...\n",
    "}"
   ]
  },
  {
   "cell_type": "code",
   "execution_count": 2,
   "id": "expensive-transition",
   "metadata": {},
   "outputs": [],
   "source": [
    "# Load data, process, potentially plot some distributions\n",
    "\n",
    "with open('data/wikivital_mathematics.json') as data_file:    \n",
    "    math_data = json.load(data_file)\n",
    "    \n",
    "keys = math_data.keys()\n",
    "\n",
    "topics_id = math_data[\"node_ids\"]\n",
    "topics = math_data[\"node_ids\"].keys()"
   ]
  },
  {
   "cell_type": "markdown",
   "id": "eligible-hazard",
   "metadata": {},
   "source": [
    "#### Dataset 2: Energy efficiency"
   ]
  },
  {
   "cell_type": "code",
   "execution_count": 3,
   "id": "earned-baghdad",
   "metadata": {},
   "outputs": [],
   "source": [
    "# Load data, process, potentially plot some distributions\n",
    "\n",
    "df_raw = pd.read_csv('data/energy_efficiency_data.csv')\n",
    "num_entries = df_raw.shape[0]\n",
    "num_attributes = df_raw.shape[1]\n",
    "\n",
    "df_shuffeled = df_raw.sample(frac=1,random_state=193520285)\n",
    "\n",
    "#Preprocess target: Pick one of two possible targets, mean = 0 \n",
    "Y = df_shuffeled.values[:,-2:-1]\n",
    "Y = np.reshape(Y, len(Y))\n",
    "Y = Y - np.mean(Y)\n",
    "\n",
    "#Preprocess features. Scale all to [0,1]\n",
    "X = df_shuffeled.values[:,:-2]\n",
    "scaler = preprocessing.MinMaxScaler()\n",
    "scaler.fit(X)\n",
    "df_shuffeled = scaler.transform(X)\n"
   ]
  },
  {
   "cell_type": "code",
   "execution_count": 4,
   "id": "alternative-internship",
   "metadata": {},
   "outputs": [
    {
     "name": "stdout",
     "output_type": "stream",
     "text": [
      "Initial cost:155360635.13\n",
      "Terminating fitting since relative improvement dropped below threshold.\n",
      "\n",
      "Final weights: [0.33636366425152375, -0.06186695338041282, 0.13161879382883424, -0.030305257633830296, 0.044554325619518234, 0.44270077048631146, 0.6904230192179557, 0.9464973748774235]\n",
      "Total size of weights: 1.306032249339568\n",
      "RSS split of cost: 49.76%\n",
      "Mean residual: 3.552986673393098, compare to difference between max and min y: 37.09\n",
      "Ridge(alpha=10000.0, fit_intercept=False, max_iter=400)\n"
     ]
    }
   ],
   "source": [
    "# Ridge regression, own and available implementation + plot\n",
    "\n",
    "learning_rate = 0.000000002\n",
    "lambda_parameter = 100.00 \n",
    "max_iterations = 400\n",
    "\n",
    "# Perform cross validation\n",
    "for train_index, test_index in cross_validator10.split(X,Y):\n",
    "    \n",
    "    # Fit models\n",
    "    OurRidge.fit(X,Y, lambda_parameter, learning_rate, max_iter = max_iterations, quiet=True)\n",
    "    \n",
    "    availableRidge = Ridge(lambda_parameter, fit_intercept=False, max_iter=max_iterations)\n",
    "    availableRidge.fit(X[train_index],Y[train_index])\n",
    "    \n",
    "    #Test models\n",
    "    \n",
    "\n",
    "print(availableRidge)"
   ]
  },
  {
   "cell_type": "code",
   "execution_count": 5,
   "id": "configured-involvement",
   "metadata": {},
   "outputs": [],
   "source": [
    "# kNN \n",
    "\n",
    "OurKNN.fit(X,Y)\n"
   ]
  },
  {
   "cell_type": "markdown",
   "id": "prospective-tracker",
   "metadata": {},
   "source": [
    "#### Dataset 3:"
   ]
  },
  {
   "cell_type": "code",
   "execution_count": null,
   "id": "developmental-scope",
   "metadata": {},
   "outputs": [],
   "source": []
  }
 ],
 "metadata": {
  "kernelspec": {
   "display_name": "Python 3",
   "language": "python",
   "name": "python3"
  },
  "language_info": {
   "codemirror_mode": {
    "name": "ipython",
    "version": 3
   },
   "file_extension": ".py",
   "mimetype": "text/x-python",
   "name": "python",
   "nbconvert_exporter": "python",
   "pygments_lexer": "ipython3",
   "version": "3.9.1"
  }
 },
 "nbformat": 4,
 "nbformat_minor": 5
}
